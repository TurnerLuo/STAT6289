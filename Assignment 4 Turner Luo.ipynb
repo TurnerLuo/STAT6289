{
 "cells": [
  {
   "cell_type": "markdown",
   "id": "ea9b40f4",
   "metadata": {},
   "source": [
    "## STAT 6289 Assignment 4 Turner Luo\n",
    "Installing the Magnitude Package:"
   ]
  },
  {
   "cell_type": "code",
   "execution_count": 49,
   "id": "f48bb74b",
   "metadata": {},
   "outputs": [],
   "source": [
    "import matplotlib.pyplot as plt\n",
    "from matplotlib.pyplot import figure"
   ]
  },
  {
   "cell_type": "code",
   "execution_count": 1,
   "id": "39e2ff48",
   "metadata": {},
   "outputs": [
    {
     "name": "stdout",
     "output_type": "stream",
     "text": [
      "Requirement already satisfied: pymagnitude in e:\\anaconda\\envs\\python3-6-13\\lib\\site-packages (0.1.143)\n",
      "Note: you may need to restart the kernel to use updated packages.\n"
     ]
    }
   ],
   "source": [
    "pip install pymagnitude"
   ]
  },
  {
   "cell_type": "markdown",
   "id": "f34a2600",
   "metadata": {},
   "source": [
    "Getting Started with Magnitude:"
   ]
  },
  {
   "cell_type": "code",
   "execution_count": 2,
   "id": "2bfb87c8",
   "metadata": {},
   "outputs": [],
   "source": [
    "from pymagnitude import *\n",
    "file_path = \"D:/GWU/6289/HW4/GoogleNews-vectors-negative300.magnitude\"\n",
    "vectors = Magnitude(file_path)"
   ]
  },
  {
   "cell_type": "markdown",
   "id": "95534840",
   "metadata": {},
   "source": [
    "## Play around with Magnitude:"
   ]
  },
  {
   "cell_type": "markdown",
   "id": "437e1819",
   "metadata": {},
   "source": [
    "You can query the distance of two or multiple keys like so:"
   ]
  },
  {
   "cell_type": "code",
   "execution_count": 3,
   "id": "bd5f17ee",
   "metadata": {},
   "outputs": [
    {
     "data": {
      "text/plain": [
       "0.691454"
      ]
     },
     "execution_count": 3,
     "metadata": {},
     "output_type": "execute_result"
    }
   ],
   "source": [
    "vectors.distance(\"cat\",\"dog\")"
   ]
  },
  {
   "cell_type": "code",
   "execution_count": 7,
   "id": "1fc2b26f",
   "metadata": {},
   "outputs": [
    {
     "data": {
      "text/plain": [
       "[0.691454, 1.0150564]"
      ]
     },
     "execution_count": 7,
     "metadata": {},
     "output_type": "execute_result"
    }
   ],
   "source": [
    "vectors.distance(\"cat\",[\"dog\",\"pig\"])"
   ]
  },
  {
   "cell_type": "markdown",
   "id": "79d6676f",
   "metadata": {},
   "source": [
    "You can check if a key is in the vocabulary like so:"
   ]
  },
  {
   "cell_type": "code",
   "execution_count": 4,
   "id": "a382aaad",
   "metadata": {},
   "outputs": [
    {
     "data": {
      "text/plain": [
       "True"
      ]
     },
     "execution_count": 4,
     "metadata": {},
     "output_type": "execute_result"
    }
   ],
   "source": [
    "\"pig\" in vectors"
   ]
  },
  {
   "cell_type": "markdown",
   "id": "e652cdc3",
   "metadata": {},
   "source": [
    "You can query the total number of vectors in the file like so:"
   ]
  },
  {
   "cell_type": "code",
   "execution_count": 5,
   "id": "9516061a",
   "metadata": {},
   "outputs": [
    {
     "data": {
      "text/plain": [
       "3000000"
      ]
     },
     "execution_count": 5,
     "metadata": {},
     "output_type": "execute_result"
    }
   ],
   "source": [
    "len(vectors)"
   ]
  },
  {
   "cell_type": "markdown",
   "id": "d39ef43b",
   "metadata": {},
   "source": [
    "You can query the similarity of two or multiple keys like so:"
   ]
  },
  {
   "cell_type": "code",
   "execution_count": 6,
   "id": "3f69fc8f",
   "metadata": {},
   "outputs": [
    {
     "data": {
      "text/plain": [
       "[0.76094574, 0.5172963]"
      ]
     },
     "execution_count": 6,
     "metadata": {},
     "output_type": "execute_result"
    }
   ],
   "source": [
    "vectors.similarity(\"cat\", [\"dog\", \"tiger\"])"
   ]
  },
  {
   "cell_type": "markdown",
   "id": "54cbe502",
   "metadata": {},
   "source": [
    "You can query for the most similar key out of a list of keys to a given key like so:"
   ]
  },
  {
   "cell_type": "code",
   "execution_count": 8,
   "id": "ef74e832",
   "metadata": {},
   "outputs": [
    {
     "data": {
      "text/plain": [
       "'dog'"
      ]
     },
     "execution_count": 8,
     "metadata": {},
     "output_type": "execute_result"
    }
   ],
   "source": [
    "vectors.most_similar_to_given(\"cat\", [\"dog\", \"television\", \"laptop\"])"
   ]
  },
  {
   "cell_type": "markdown",
   "id": "7b2827b1",
   "metadata": {},
   "source": [
    "You can also query for the most similar keys giving positive and negative examples (which, incidentally, solves analogies) like so:\\\n",
    "Such as solving analogy: king is to man as woman is to X.\\\n",
    "X + man ≈ king + woman."
   ]
  },
  {
   "cell_type": "code",
   "execution_count": 9,
   "id": "134a0c52",
   "metadata": {},
   "outputs": [
    {
     "data": {
      "text/plain": [
       "[('queen', 0.7118193),\n",
       " ('monarch', 0.6189675),\n",
       " ('princess', 0.5902431),\n",
       " ('crown_prince', 0.5499462),\n",
       " ('prince', 0.53773224),\n",
       " ('kings', 0.5236845),\n",
       " ('Queen_Consort', 0.5235946),\n",
       " ('queens', 0.51811343),\n",
       " ('sultan', 0.50985944),\n",
       " ('monarchy', 0.50874114)]"
      ]
     },
     "execution_count": 9,
     "metadata": {},
     "output_type": "execute_result"
    }
   ],
   "source": [
    "vectors.most_similar(positive = [\"woman\", \"king\"], negative = [\"man\"])"
   ]
  },
  {
   "cell_type": "markdown",
   "id": "8bd7ca8d",
   "metadata": {},
   "source": [
    "## 1. What is the dimensionality of these word embeddings? Provide an integer answer."
   ]
  },
  {
   "cell_type": "code",
   "execution_count": 10,
   "id": "407154bd",
   "metadata": {},
   "outputs": [
    {
     "data": {
      "text/plain": [
       "300"
      ]
     },
     "execution_count": 10,
     "metadata": {},
     "output_type": "execute_result"
    }
   ],
   "source": [
    "vectors.dim"
   ]
  },
  {
   "cell_type": "markdown",
   "id": "9c22605c",
   "metadata": {},
   "source": [
    "## 2. What are the top-5 most similar words to picnic (not including picnic itself)? \\\n",
    "\\\n",
    "Check if \"picnic\" is in the vocabulary:"
   ]
  },
  {
   "cell_type": "code",
   "execution_count": 11,
   "id": "30fbf4a8",
   "metadata": {},
   "outputs": [
    {
     "data": {
      "text/plain": [
       "True"
      ]
     },
     "execution_count": 11,
     "metadata": {},
     "output_type": "execute_result"
    }
   ],
   "source": [
    "\"picnic\" in vectors"
   ]
  },
  {
   "cell_type": "code",
   "execution_count": 12,
   "id": "cd3900c3",
   "metadata": {},
   "outputs": [
    {
     "data": {
      "text/plain": [
       "[('picnics', 0.7400875),\n",
       " ('picnic_lunch', 0.72137403),\n",
       " ('Picnic', 0.70053387),\n",
       " ('potluck_picnic', 0.66832733),\n",
       " ('picnic_supper', 0.65189123)]"
      ]
     },
     "execution_count": 12,
     "metadata": {},
     "output_type": "execute_result"
    }
   ],
   "source": [
    "vectors.most_similar(\"picnic\", topn = 5)"
   ]
  },
  {
   "cell_type": "markdown",
   "id": "b764726b",
   "metadata": {},
   "source": [
    "The top 5 most similar words to \"picnic\" is:\\\n",
    "\"picnics\" \"picnic_lunch\" \"Picnic\" \"potluck_picnic\" \"picnic_supper\"\\\n",
    "\\\n",
    "Since \"Picnic\" is the same as \"picnic\":"
   ]
  },
  {
   "cell_type": "code",
   "execution_count": 16,
   "id": "2ded2e85",
   "metadata": {},
   "outputs": [
    {
     "data": {
      "text/plain": [
       "[('picnics', 0.7400875),\n",
       " ('picnic_lunch', 0.72137403),\n",
       " ('Picnic', 0.70053387),\n",
       " ('potluck_picnic', 0.66832733),\n",
       " ('picnic_supper', 0.65189123),\n",
       " ('picnicking', 0.63550216)]"
      ]
     },
     "execution_count": 16,
     "metadata": {},
     "output_type": "execute_result"
    }
   ],
   "source": [
    "vectors.most_similar(\"picnic\", topn = 6)"
   ]
  },
  {
   "cell_type": "markdown",
   "id": "42c13466",
   "metadata": {},
   "source": [
    "\"picnics\" \"picnic_lunch\"  \"potluck_picnic\"  \"picnic_supper\"  \"picnicking\""
   ]
  },
  {
   "cell_type": "markdown",
   "id": "48debeb9",
   "metadata": {},
   "source": [
    "Visualizing the result:"
   ]
  },
  {
   "cell_type": "code",
   "execution_count": 53,
   "id": "62422aa2",
   "metadata": {},
   "outputs": [],
   "source": [
    "picnic = vectors.most_similar(\"picnic\", topn = 10)\n",
    "x = []\n",
    "y = []\n",
    "for i in range(10):\n",
    "    x.append(picnic[i][0])\n",
    "    y.append(picnic[i][1])"
   ]
  },
  {
   "cell_type": "code",
   "execution_count": 57,
   "id": "7660cbc6",
   "metadata": {},
   "outputs": [
    {
     "data": {
      "text/plain": [
       "([0, 1, 2, 3, 4, 5, 6, 7, 8, 9],\n",
       " [Text(0, 0, ''),\n",
       "  Text(0, 0, ''),\n",
       "  Text(0, 0, ''),\n",
       "  Text(0, 0, ''),\n",
       "  Text(0, 0, ''),\n",
       "  Text(0, 0, ''),\n",
       "  Text(0, 0, ''),\n",
       "  Text(0, 0, ''),\n",
       "  Text(0, 0, ''),\n",
       "  Text(0, 0, '')])"
      ]
     },
     "execution_count": 57,
     "metadata": {},
     "output_type": "execute_result"
    },
    {
     "data": {
      "image/png": "[encoded data removed]",
      "text/plain": [
       "<Figure size 1400x600 with 1 Axes>"
      ]
     },
     "metadata": {
      "needs_background": "light"
     },
     "output_type": "display_data"
    }
   ],
   "source": [
    "figure(figsize=(14, 6), dpi=100)\n",
    "plt.stem(x,y)\n",
    "plt.xticks(rotation=45)"
   ]
  },
  {
   "cell_type": "markdown",
   "id": "c59c98de",
   "metadata": {},
   "source": [
    "## 3. According to the word embeddings, which of these words is not like the others? ['tissue', 'papyrus', 'manila', 'newsprint', 'parchment', 'gazette'] "
   ]
  },
  {
   "cell_type": "code",
   "execution_count": 13,
   "id": "4de753e4",
   "metadata": {},
   "outputs": [
    {
     "data": {
      "text/plain": [
       "'tissue'"
      ]
     },
     "execution_count": 13,
     "metadata": {},
     "output_type": "execute_result"
    }
   ],
   "source": [
    "vectors.doesnt_match([\"tissue\", \"papyrus\", \"manila\", \"newsprint\", \"parchment\", \"gazette\"])"
   ]
  },
  {
   "cell_type": "markdown",
   "id": "588821c9",
   "metadata": {},
   "source": [
    "## 4. Solve the following analogy: leg is to jump as X is to throw. "
   ]
  },
  {
   "cell_type": "markdown",
   "id": "be43eea9",
   "metadata": {},
   "source": [
    "X + jump ≈ leg + throw."
   ]
  },
  {
   "cell_type": "code",
   "execution_count": 14,
   "id": "883f5ec9",
   "metadata": {},
   "outputs": [
    {
     "data": {
      "text/plain": [
       "[('forearm', 0.48294652),\n",
       " ('shin', 0.47376174),\n",
       " ('elbow', 0.46796894),\n",
       " ('metacarpal_bone', 0.46781474),\n",
       " ('metacarpal_bones', 0.46605825),\n",
       " ('ankle', 0.46434426),\n",
       " ('shoulder', 0.46183363),\n",
       " ('thigh', 0.45393687),\n",
       " ('knee', 0.4455707),\n",
       " ('ulna_bone', 0.44234914)]"
      ]
     },
     "execution_count": 14,
     "metadata": {},
     "output_type": "execute_result"
    }
   ],
   "source": [
    "vectors.most_similar(positive = [\"throw\", \"leg\"], negative = [\"jump\"])"
   ]
  },
  {
   "cell_type": "markdown",
   "id": "cca5060f",
   "metadata": {},
   "source": [
    "Visualizing the result:"
   ]
  },
  {
   "cell_type": "code",
   "execution_count": 40,
   "id": "3c098c7f",
   "metadata": {},
   "outputs": [],
   "source": [
    "similar = vectors.most_similar(positive = [\"throw\", \"leg\"], negative = [\"jump\"])\n",
    "a = []\n",
    "b = []\n",
    "for i in range(10):\n",
    "    a.append(similar[i][0])\n",
    "    b.append(similar[i][1])"
   ]
  },
  {
   "cell_type": "code",
   "execution_count": 56,
   "id": "0814819d",
   "metadata": {},
   "outputs": [
    {
     "data": {
      "text/plain": [
       "([0, 1, 2, 3, 4, 5, 6, 7, 8, 9],\n",
       " [Text(0, 0, ''),\n",
       "  Text(0, 0, ''),\n",
       "  Text(0, 0, ''),\n",
       "  Text(0, 0, ''),\n",
       "  Text(0, 0, ''),\n",
       "  Text(0, 0, ''),\n",
       "  Text(0, 0, ''),\n",
       "  Text(0, 0, ''),\n",
       "  Text(0, 0, ''),\n",
       "  Text(0, 0, '')])"
      ]
     },
     "execution_count": 56,
     "metadata": {},
     "output_type": "execute_result"
    },
    {
     "data": {
      "image/png": "[encoded data removed]",
      "text/plain": [
       "<Figure size 1400x600 with 1 Axes>"
      ]
     },
     "metadata": {
      "needs_background": "light"
     },
     "output_type": "display_data"
    }
   ],
   "source": [
    "figure(figsize=(14, 6), dpi=100)\n",
    "plt.stem(a,b)\n",
    "plt.xticks(rotation = 45)"
   ]
  },
  {
   "cell_type": "markdown",
   "id": "d5dbdab8",
   "metadata": {},
   "source": [
    "\"forearm\" is our best option here.\\\n",
    "## Therefore, solving the analogy: leg is to jump as \"forearm\" is to throw."
   ]
  }
 ],
 "metadata": {
  "kernelspec": {
   "display_name": "Python 3",
   "language": "python",
   "name": "python3"
  },
  "language_info": {
   "codemirror_mode": {
    "name": "ipython",
    "version": 3
   },
   "file_extension": ".py",
   "mimetype": "text/x-python",
   "name": "python",
   "nbconvert_exporter": "python",
   "pygments_lexer": "ipython3",
   "version": "3.6.13"
  }
 },
 "nbformat": 4,
 "nbformat_minor": 5
}
